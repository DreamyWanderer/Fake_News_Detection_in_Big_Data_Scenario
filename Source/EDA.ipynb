{
 "cells": [
  {
   "cell_type": "markdown",
   "metadata": {},
   "source": [
    "## Exploratory data analysis\n",
    "Getting insights from data"
   ]
  },
  {
   "cell_type": "markdown",
   "metadata": {},
   "source": [
    "### 1. Import library"
   ]
  },
  {
   "cell_type": "code",
   "execution_count": 1,
   "metadata": {},
   "outputs": [],
   "source": [
    "import pandas as pd\n",
    "import pymongo\n",
    "from gensim import corpora\n",
    "from gensim.models import LdaModel\n",
    "from nltk.tokenize import word_tokenize\n",
    "import warnings\n",
    "warnings.filterwarnings(\"ignore\")"
   ]
  },
  {
   "cell_type": "markdown",
   "metadata": {},
   "source": [
    "### 2. Get data from Mongodb"
   ]
  },
  {
   "cell_type": "code",
   "execution_count": 4,
   "metadata": {},
   "outputs": [
    {
     "name": "stdout",
     "output_type": "stream",
     "text": [
      "['VNFD', 'VNFDPreprocessed']\n"
     ]
    }
   ],
   "source": [
    "uri = \"mongodb://dreamywanderer:fIheB7sQzEsjH3U6WXmOXoVP1Hj79V4Xom1pNV0uHNbNBal0Lx75X6fwSovFOxXFftvFAMsf5SGoACDboPqXRA==@dreamywanderer.mongo.cosmos.azure.com:10255/?ssl=true&retrywrites=false&replicaSet=globaldb&maxIdleTimeMS=120000&appName=@dreamywanderer@\"\n",
    "\n",
    "client = pymongo.MongoClient(uri)\n",
    "NewsDataset = client['NewsDataset']\n",
    "\n",
    "# Get name of all existing collections in the NewsDataset\n",
    "print(NewsDataset.list_collection_names())\n",
    "\n",
    "VNFD = NewsDataset['VNFDPreprocessed']"
   ]
  },
  {
   "cell_type": "markdown",
   "metadata": {},
   "source": [
    "### 3. Change format to dataframe"
   ]
  },
  {
   "cell_type": "code",
   "execution_count": 5,
   "metadata": {},
   "outputs": [],
   "source": [
    "data = {}\n",
    "columns = list(VNFD.find()[0].keys())\n",
    "for col in columns:\n",
    "    data[col] = []\n",
    "\n",
    "for doc in VNFD.find():\n",
    "    for col in columns:\n",
    "        data[col].append(doc[col])   "
   ]
  },
  {
   "cell_type": "code",
   "execution_count": 6,
   "metadata": {},
   "outputs": [
    {
     "data": {
      "text/html": [
       "<div>\n",
       "<style scoped>\n",
       "    .dataframe tbody tr th:only-of-type {\n",
       "        vertical-align: middle;\n",
       "    }\n",
       "\n",
       "    .dataframe tbody tr th {\n",
       "        vertical-align: top;\n",
       "    }\n",
       "\n",
       "    .dataframe thead th {\n",
       "        text-align: right;\n",
       "    }\n",
       "</style>\n",
       "<table border=\"1\" class=\"dataframe\">\n",
       "  <thead>\n",
       "    <tr style=\"text-align: right;\">\n",
       "      <th></th>\n",
       "      <th>title</th>\n",
       "      <th>content</th>\n",
       "      <th>url</th>\n",
       "      <th>label</th>\n",
       "      <th>imageURL</th>\n",
       "      <th>domain</th>\n",
       "      <th>topic</th>\n",
       "      <th>author</th>\n",
       "      <th>date</th>\n",
       "    </tr>\n",
       "  </thead>\n",
       "  <tbody>\n",
       "    <tr>\n",
       "      <th>0</th>\n",
       "      <td>Bức vẽ giúp bạn đánh giá mức độ stress của bản...</td>\n",
       "      <td>[tranh, thể, vòng, tròn, động, chậm, rãi, hình...</td>\n",
       "      <td>https://suckhoe.vnexpress.net/tin-tuc/tu-van/b...</td>\n",
       "      <td>1</td>\n",
       "      <td>https://i-suckhoe.vnecdn.net/2018/11/16/onh-15...</td>\n",
       "      <td>suckhoe.vnexpress.net</td>\n",
       "      <td>None</td>\n",
       "      <td>[]</td>\n",
       "      <td>2018-11-17 12:15:00</td>\n",
       "    </tr>\n",
       "    <tr>\n",
       "      <th>1</th>\n",
       "      <td>KHẨN CẤP: Hàng loạt trẻ em nhập viện vì ngộ độ...</td>\n",
       "      <td>[xét, nghiệm, ban, đầu, trẻ, nhập, viện, bé, d...</td>\n",
       "      <td>http://phapluat.news/khan-cap-hang-loat-tre-em...</td>\n",
       "      <td>1</td>\n",
       "      <td>http://img-static.phapluat.news/2017/10/H1.jpg</td>\n",
       "      <td>phapluat.news</td>\n",
       "      <td>None</td>\n",
       "      <td>[]</td>\n",
       "      <td>2017-10-04 14:29:00</td>\n",
       "    </tr>\n",
       "    <tr>\n",
       "      <th>2</th>\n",
       "      <td>Không đủ tiền tiêu hủy, Chi cục Thú y đề nghị ...</td>\n",
       "      <td>[289, ubnd, thành, phố, chi, cục, thú, y, văn,...</td>\n",
       "      <td>http://phapluat.news/khong-du-tien-tieu-huy-ch...</td>\n",
       "      <td>1</td>\n",
       "      <td>http://img-static.phapluat.news/2017/09/h1-4.jpg</td>\n",
       "      <td>phapluat.news</td>\n",
       "      <td>None</td>\n",
       "      <td>[]</td>\n",
       "      <td>2017-09-28 11:48:06</td>\n",
       "    </tr>\n",
       "    <tr>\n",
       "      <th>3</th>\n",
       "      <td>KHẨN CẤP: Xuất hiện xe bắt chó giả ở TP.HCM</td>\n",
       "      <td>[suốt, lực, săn, bắt, chó, đi, tuần, tra, rộng...</td>\n",
       "      <td>http://autoxe.net/doi-song/khan-cap-xuat-hien-...</td>\n",
       "      <td>1</td>\n",
       "      <td>http://autoxe.net/wp-content/uploads/2017/09/u...</td>\n",
       "      <td>autoxe.net</td>\n",
       "      <td>None</td>\n",
       "      <td>[]</td>\n",
       "      <td>2017-09-13 15:05:28</td>\n",
       "    </tr>\n",
       "    <tr>\n",
       "      <th>4</th>\n",
       "      <td>Đề xuất cấm tất cả công chức Hà Nội đổ xăng tạ...</td>\n",
       "      <td>[chiều, 1110, ubnd, tphà, nội, công, văn, hiệp...</td>\n",
       "      <td>http://phapluat.news/de-xuat-cam-tat-ca-cong-c...</td>\n",
       "      <td>1</td>\n",
       "      <td>http://img-static.phapluat.news/2017/10/h1-2.jpg</td>\n",
       "      <td>phapluat.news</td>\n",
       "      <td>None</td>\n",
       "      <td>[]</td>\n",
       "      <td>2017-10-11 16:28:55</td>\n",
       "    </tr>\n",
       "  </tbody>\n",
       "</table>\n",
       "</div>"
      ],
      "text/plain": [
       "                                               title  \\\n",
       "0  Bức vẽ giúp bạn đánh giá mức độ stress của bản...   \n",
       "1  KHẨN CẤP: Hàng loạt trẻ em nhập viện vì ngộ độ...   \n",
       "2  Không đủ tiền tiêu hủy, Chi cục Thú y đề nghị ...   \n",
       "3        KHẨN CẤP: Xuất hiện xe bắt chó giả ở TP.HCM   \n",
       "4  Đề xuất cấm tất cả công chức Hà Nội đổ xăng tạ...   \n",
       "\n",
       "                                             content  \\\n",
       "0  [tranh, thể, vòng, tròn, động, chậm, rãi, hình...   \n",
       "1  [xét, nghiệm, ban, đầu, trẻ, nhập, viện, bé, d...   \n",
       "2  [289, ubnd, thành, phố, chi, cục, thú, y, văn,...   \n",
       "3  [suốt, lực, săn, bắt, chó, đi, tuần, tra, rộng...   \n",
       "4  [chiều, 1110, ubnd, tphà, nội, công, văn, hiệp...   \n",
       "\n",
       "                                                 url  label  \\\n",
       "0  https://suckhoe.vnexpress.net/tin-tuc/tu-van/b...      1   \n",
       "1  http://phapluat.news/khan-cap-hang-loat-tre-em...      1   \n",
       "2  http://phapluat.news/khong-du-tien-tieu-huy-ch...      1   \n",
       "3  http://autoxe.net/doi-song/khan-cap-xuat-hien-...      1   \n",
       "4  http://phapluat.news/de-xuat-cam-tat-ca-cong-c...      1   \n",
       "\n",
       "                                            imageURL                 domain  \\\n",
       "0  https://i-suckhoe.vnecdn.net/2018/11/16/onh-15...  suckhoe.vnexpress.net   \n",
       "1     http://img-static.phapluat.news/2017/10/H1.jpg          phapluat.news   \n",
       "2   http://img-static.phapluat.news/2017/09/h1-4.jpg          phapluat.news   \n",
       "3  http://autoxe.net/wp-content/uploads/2017/09/u...             autoxe.net   \n",
       "4   http://img-static.phapluat.news/2017/10/h1-2.jpg          phapluat.news   \n",
       "\n",
       "  topic author                 date  \n",
       "0  None     []  2018-11-17 12:15:00  \n",
       "1  None     []  2017-10-04 14:29:00  \n",
       "2  None     []  2017-09-28 11:48:06  \n",
       "3  None     []  2017-09-13 15:05:28  \n",
       "4  None     []  2017-10-11 16:28:55  "
      ]
     },
     "execution_count": 6,
     "metadata": {},
     "output_type": "execute_result"
    }
   ],
   "source": [
    "df = pd.DataFrame(data).drop(['_id'], axis = 1)\n",
    "df.head()"
   ]
  },
  {
   "cell_type": "code",
   "execution_count": 7,
   "metadata": {},
   "outputs": [
    {
     "name": "stdout",
     "output_type": "stream",
     "text": [
      "<class 'pandas.core.frame.DataFrame'>\n",
      "RangeIndex: 242 entries, 0 to 241\n",
      "Data columns (total 9 columns):\n",
      " #   Column    Non-Null Count  Dtype \n",
      "---  ------    --------------  ----- \n",
      " 0   title     242 non-null    object\n",
      " 1   content   242 non-null    object\n",
      " 2   url       242 non-null    object\n",
      " 3   label     242 non-null    int64 \n",
      " 4   imageURL  242 non-null    object\n",
      " 5   domain    242 non-null    object\n",
      " 6   topic     0 non-null      object\n",
      " 7   author    242 non-null    object\n",
      " 8   date      229 non-null    object\n",
      "dtypes: int64(1), object(8)\n",
      "memory usage: 17.1+ KB\n"
     ]
    }
   ],
   "source": [
    "df.info()"
   ]
  },
  {
   "cell_type": "markdown",
   "metadata": {},
   "source": [
    "#### 3.1 Preprocessing (this section will be delete when we have clean data)"
   ]
  },
  {
   "cell_type": "code",
   "execution_count": 8,
   "metadata": {},
   "outputs": [],
   "source": [
    "for i in range(df.shape[0]):\n",
    "    if df['content'][i] == None:\n",
    "        df = df.drop(labels = i, axis = 0)\n",
    "\n",
    "df = df.reset_index(drop = True)"
   ]
  },
  {
   "cell_type": "code",
   "execution_count": 9,
   "metadata": {},
   "outputs": [
    {
     "name": "stdout",
     "output_type": "stream",
     "text": [
      "<class 'pandas.core.frame.DataFrame'>\n",
      "RangeIndex: 242 entries, 0 to 241\n",
      "Data columns (total 9 columns):\n",
      " #   Column    Non-Null Count  Dtype \n",
      "---  ------    --------------  ----- \n",
      " 0   title     242 non-null    object\n",
      " 1   content   242 non-null    object\n",
      " 2   url       242 non-null    object\n",
      " 3   label     242 non-null    int64 \n",
      " 4   imageURL  242 non-null    object\n",
      " 5   domain    242 non-null    object\n",
      " 6   topic     0 non-null      object\n",
      " 7   author    242 non-null    object\n",
      " 8   date      229 non-null    object\n",
      "dtypes: int64(1), object(8)\n",
      "memory usage: 17.1+ KB\n"
     ]
    }
   ],
   "source": [
    "df.info()"
   ]
  },
  {
   "cell_type": "markdown",
   "metadata": {},
   "source": [
    "#### 3.2 Safe csv file (optional)"
   ]
  },
  {
   "cell_type": "code",
   "execution_count": 12,
   "metadata": {},
   "outputs": [],
   "source": [
    "#safe df\n",
    "#df.to_csv('Dataset/VNFD.csv', index = False)"
   ]
  },
  {
   "cell_type": "markdown",
   "metadata": {},
   "source": [
    "### 4. Get insights"
   ]
  },
  {
   "cell_type": "markdown",
   "metadata": {},
   "source": [
    "4.1 Get brief infomation"
   ]
  },
  {
   "cell_type": "markdown",
   "metadata": {},
   "source": [
    "4.2 Check whether the distribution of classes is different"
   ]
  },
  {
   "cell_type": "markdown",
   "metadata": {},
   "source": [
    "4.3 Statistical information of content"
   ]
  },
  {
   "cell_type": "markdown",
   "metadata": {},
   "source": [
    "..."
   ]
  },
  {
   "cell_type": "markdown",
   "metadata": {},
   "source": [
    "#### 4.x Topic extraction"
   ]
  },
  {
   "cell_type": "code",
   "execution_count": 81,
   "metadata": {},
   "outputs": [],
   "source": [
    "#Use when the content has not been preprocessed\n",
    "def retrieve_topic(content):\n",
    "    tokens = word_tokenize(content.lower())\n",
    "    filtered_tokens = [token for token in tokens if token.isalpha()]\n",
    "    dictionary = corpora.Dictionary([filtered_tokens])\n",
    "    corpus = [dictionary.doc2bow(filtered_tokens)]\n",
    "    lda_model = LdaModel(corpus, num_topics=1, id2word=dictionary)\n",
    "    topics = lda_model.show_topic(0)\n",
    "    topics = [topic[0] for topic in topics[:5]] #get 5 keywords for topic\n",
    "    return topics"
   ]
  },
  {
   "cell_type": "code",
   "execution_count": 13,
   "metadata": {},
   "outputs": [],
   "source": [
    "# Use when the content has been preprocessed\n",
    "def retrieve_topic(content):\n",
    "    dictionary = corpora.Dictionary([content])\n",
    "    corpus = [dictionary.doc2bow(content)]\n",
    "    lda_model = LdaModel(corpus, num_topics=1, id2word=dictionary)\n",
    "    topics = lda_model.show_topic(0)\n",
    "    topics = [topic[0] for topic in topics[:5]] #get 5 keywords for topic\n",
    "    return topics"
   ]
  },
  {
   "cell_type": "code",
   "execution_count": 16,
   "metadata": {},
   "outputs": [],
   "source": [
    "#df['content'] = df['content'].astype('string') #Use when the content has not been preprocessed\n",
    "df['topic_extract'] = pd.Series()\n",
    "for i in range(df.shape[0]):\n",
    "    df['topic_extract'][i] = retrieve_topic(df['content'][i])"
   ]
  },
  {
   "cell_type": "code",
   "execution_count": 17,
   "metadata": {},
   "outputs": [
    {
     "data": {
      "text/plain": [
       "0             [ảnh, hình, động, lý, học]\n",
       "1           [thuốc, heo, an, tiêm, thần]\n",
       "2           [chó, hoang, viên, thú, cầm]\n",
       "3               [chó, bắt, xe, cục, chi]\n",
       "4       [xăng, doanh, nghiệp, dầu, việt]\n",
       "                     ...                \n",
       "237        [hiện, tai, trường, nạn, ảnh]\n",
       "238            [sở, vi, động, dâm, hàng]\n",
       "239       [nam, bay, châu, chuyến, việt]\n",
       "240    [thành, đường, phố, nguyễn, gian]\n",
       "241          [biển, nẵng, đà, tắm, hằng]\n",
       "Name: topic_extract, Length: 242, dtype: object"
      ]
     },
     "execution_count": 17,
     "metadata": {},
     "output_type": "execute_result"
    }
   ],
   "source": [
    "df['topic_extract']"
   ]
  }
 ],
 "metadata": {
  "kernelspec": {
   "display_name": "Python 3",
   "language": "python",
   "name": "python3"
  },
  "language_info": {
   "codemirror_mode": {
    "name": "ipython",
    "version": 3
   },
   "file_extension": ".py",
   "mimetype": "text/x-python",
   "name": "python",
   "nbconvert_exporter": "python",
   "pygments_lexer": "ipython3",
   "version": "3.10.7"
  }
 },
 "nbformat": 4,
 "nbformat_minor": 2
}
