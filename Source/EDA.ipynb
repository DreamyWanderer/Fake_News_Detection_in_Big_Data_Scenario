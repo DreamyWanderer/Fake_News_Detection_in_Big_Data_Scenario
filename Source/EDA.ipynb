{
 "cells": [
  {
   "cell_type": "markdown",
   "metadata": {},
   "source": [
    "## Exploratory data analysis\n",
    "Getting insights from data"
   ]
  },
  {
   "cell_type": "markdown",
   "metadata": {},
   "source": [
    "### 1. Import library"
   ]
  },
  {
   "cell_type": "code",
   "execution_count": 84,
   "metadata": {},
   "outputs": [],
   "source": [
    "import pandas as pd\n",
    "import pymongo\n",
    "from gensim import corpora\n",
    "from gensim.models import LdaModel\n",
    "from nltk.tokenize import word_tokenize\n",
    "import warnings\n",
    "warnings.filterwarnings(\"ignore\")"
   ]
  },
  {
   "cell_type": "markdown",
   "metadata": {},
   "source": [
    "### 2. Get data from Mongodb"
   ]
  },
  {
   "cell_type": "code",
   "execution_count": 130,
   "metadata": {},
   "outputs": [],
   "source": [
    "uri = \"mongodb://dreamywanderer:fIheB7sQzEsjH3U6WXmOXoVP1Hj79V4Xom1pNV0uHNbNBal0Lx75X6fwSovFOxXFftvFAMsf5SGoACDboPqXRA==@dreamywanderer.mongo.cosmos.azure.com:10255/?ssl=true&retrywrites=false&replicaSet=globaldb&maxIdleTimeMS=120000&appName=@dreamywanderer@\"\n",
    "\n",
    "client = pymongo.MongoClient(uri)\n",
    "NewsDataset = client['NewsDataset']\n",
    "\n",
    "# Get name of all existing collections in the NewsDataset\n",
    "#print(NewsDataset.list_collection_names())\n",
    "\n",
    "VNFD = NewsDataset['VNFD']"
   ]
  },
  {
   "cell_type": "markdown",
   "metadata": {},
   "source": [
    "### 3. Change format to dataframe"
   ]
  },
  {
   "cell_type": "code",
   "execution_count": 129,
   "metadata": {},
   "outputs": [],
   "source": [
    "data = {}\n",
    "columns = list(VNFD.find()[0].keys())\n",
    "for col in columns:\n",
    "    data[col] = []\n",
    "\n",
    "for doc in VNFD.find():\n",
    "    for col in columns:\n",
    "        data[col].append(doc[col])   "
   ]
  },
  {
   "cell_type": "code",
   "execution_count": 131,
   "metadata": {},
   "outputs": [
    {
     "data": {
      "text/html": [
       "<div>\n",
       "<style scoped>\n",
       "    .dataframe tbody tr th:only-of-type {\n",
       "        vertical-align: middle;\n",
       "    }\n",
       "\n",
       "    .dataframe tbody tr th {\n",
       "        vertical-align: top;\n",
       "    }\n",
       "\n",
       "    .dataframe thead th {\n",
       "        text-align: right;\n",
       "    }\n",
       "</style>\n",
       "<table border=\"1\" class=\"dataframe\">\n",
       "  <thead>\n",
       "    <tr style=\"text-align: right;\">\n",
       "      <th></th>\n",
       "      <th>title</th>\n",
       "      <th>content</th>\n",
       "      <th>url</th>\n",
       "      <th>label</th>\n",
       "      <th>imageURL</th>\n",
       "      <th>domain</th>\n",
       "      <th>topic</th>\n",
       "      <th>author</th>\n",
       "      <th>date</th>\n",
       "    </tr>\n",
       "  </thead>\n",
       "  <tbody>\n",
       "    <tr>\n",
       "      <th>0</th>\n",
       "      <td>Bức vẽ giúp bạn đánh giá mức độ stress của bản...</td>\n",
       "      <td>Nhìn bức tranh, bạn có thể thấy vòng tròn đang...</td>\n",
       "      <td>https://suckhoe.vnexpress.net/tin-tuc/tu-van/b...</td>\n",
       "      <td>1</td>\n",
       "      <td>https://i-suckhoe.vnecdn.net/2018/11/16/onh-15...</td>\n",
       "      <td>suckhoe.vnexpress.net</td>\n",
       "      <td>None</td>\n",
       "      <td>[]</td>\n",
       "      <td>2018-11-17 12:15:00</td>\n",
       "    </tr>\n",
       "    <tr>\n",
       "      <th>1</th>\n",
       "      <td>KHẨN CẤP: Hàng loạt trẻ em nhập viện vì ngộ độ...</td>\n",
       "      <td>Xét nghiệm ban đầu từ các trẻ nhập viện cho th...</td>\n",
       "      <td>http://phapluat.news/khan-cap-hang-loat-tre-em...</td>\n",
       "      <td>1</td>\n",
       "      <td>http://img-static.phapluat.news/2017/10/H1.jpg</td>\n",
       "      <td>phapluat.news</td>\n",
       "      <td>None</td>\n",
       "      <td>[]</td>\n",
       "      <td>2017-10-04 14:29:00</td>\n",
       "    </tr>\n",
       "    <tr>\n",
       "      <th>2</th>\n",
       "      <td>Không đủ tiền tiêu hủy, Chi cục Thú y đề nghị ...</td>\n",
       "      <td>Sáng ngày 28/9, theo nguồn tin riêng từ UBND T...</td>\n",
       "      <td>http://phapluat.news/khong-du-tien-tieu-huy-ch...</td>\n",
       "      <td>1</td>\n",
       "      <td>http://img-static.phapluat.news/2017/09/h1-4.jpg</td>\n",
       "      <td>phapluat.news</td>\n",
       "      <td>None</td>\n",
       "      <td>[]</td>\n",
       "      <td>2017-09-28 11:48:06</td>\n",
       "    </tr>\n",
       "    <tr>\n",
       "      <th>3</th>\n",
       "      <td>KHẨN CẤP: Xuất hiện xe bắt chó giả ở TP.HCM</td>\n",
       "      <td>Suốt nhiều ngày qua lực lượng săn bắt chó đã đ...</td>\n",
       "      <td>http://autoxe.net/doi-song/khan-cap-xuat-hien-...</td>\n",
       "      <td>1</td>\n",
       "      <td>http://autoxe.net/wp-content/uploads/2017/09/u...</td>\n",
       "      <td>autoxe.net</td>\n",
       "      <td>None</td>\n",
       "      <td>[]</td>\n",
       "      <td>2017-09-13 15:05:28</td>\n",
       "    </tr>\n",
       "    <tr>\n",
       "      <th>4</th>\n",
       "      <td>Đề xuất cấm tất cả công chức Hà Nội đổ xăng tạ...</td>\n",
       "      <td>Theo một nguồn tin, chiều ngày 11/10 UBND TP.H...</td>\n",
       "      <td>http://phapluat.news/de-xuat-cam-tat-ca-cong-c...</td>\n",
       "      <td>1</td>\n",
       "      <td>http://img-static.phapluat.news/2017/10/h1-2.jpg</td>\n",
       "      <td>phapluat.news</td>\n",
       "      <td>None</td>\n",
       "      <td>[]</td>\n",
       "      <td>2017-10-11 16:28:55</td>\n",
       "    </tr>\n",
       "  </tbody>\n",
       "</table>\n",
       "</div>"
      ],
      "text/plain": [
       "                                               title  \\\n",
       "0  Bức vẽ giúp bạn đánh giá mức độ stress của bản...   \n",
       "1  KHẨN CẤP: Hàng loạt trẻ em nhập viện vì ngộ độ...   \n",
       "2  Không đủ tiền tiêu hủy, Chi cục Thú y đề nghị ...   \n",
       "3        KHẨN CẤP: Xuất hiện xe bắt chó giả ở TP.HCM   \n",
       "4  Đề xuất cấm tất cả công chức Hà Nội đổ xăng tạ...   \n",
       "\n",
       "                                             content  \\\n",
       "0  Nhìn bức tranh, bạn có thể thấy vòng tròn đang...   \n",
       "1  Xét nghiệm ban đầu từ các trẻ nhập viện cho th...   \n",
       "2  Sáng ngày 28/9, theo nguồn tin riêng từ UBND T...   \n",
       "3  Suốt nhiều ngày qua lực lượng săn bắt chó đã đ...   \n",
       "4  Theo một nguồn tin, chiều ngày 11/10 UBND TP.H...   \n",
       "\n",
       "                                                 url  label  \\\n",
       "0  https://suckhoe.vnexpress.net/tin-tuc/tu-van/b...      1   \n",
       "1  http://phapluat.news/khan-cap-hang-loat-tre-em...      1   \n",
       "2  http://phapluat.news/khong-du-tien-tieu-huy-ch...      1   \n",
       "3  http://autoxe.net/doi-song/khan-cap-xuat-hien-...      1   \n",
       "4  http://phapluat.news/de-xuat-cam-tat-ca-cong-c...      1   \n",
       "\n",
       "                                            imageURL                 domain  \\\n",
       "0  https://i-suckhoe.vnecdn.net/2018/11/16/onh-15...  suckhoe.vnexpress.net   \n",
       "1     http://img-static.phapluat.news/2017/10/H1.jpg          phapluat.news   \n",
       "2   http://img-static.phapluat.news/2017/09/h1-4.jpg          phapluat.news   \n",
       "3  http://autoxe.net/wp-content/uploads/2017/09/u...             autoxe.net   \n",
       "4   http://img-static.phapluat.news/2017/10/h1-2.jpg          phapluat.news   \n",
       "\n",
       "  topic author                 date  \n",
       "0  None     []  2018-11-17 12:15:00  \n",
       "1  None     []  2017-10-04 14:29:00  \n",
       "2  None     []  2017-09-28 11:48:06  \n",
       "3  None     []  2017-09-13 15:05:28  \n",
       "4  None     []  2017-10-11 16:28:55  "
      ]
     },
     "execution_count": 131,
     "metadata": {},
     "output_type": "execute_result"
    }
   ],
   "source": [
    "df = pd.DataFrame(data).drop(['_id'], axis = 1)\n",
    "df.head()"
   ]
  },
  {
   "cell_type": "code",
   "execution_count": 99,
   "metadata": {},
   "outputs": [
    {
     "name": "stdout",
     "output_type": "stream",
     "text": [
      "<class 'pandas.core.frame.DataFrame'>\n",
      "RangeIndex: 243 entries, 0 to 242\n",
      "Data columns (total 9 columns):\n",
      " #   Column    Non-Null Count  Dtype \n",
      "---  ------    --------------  ----- \n",
      " 0   title     243 non-null    object\n",
      " 1   content   242 non-null    object\n",
      " 2   url       243 non-null    object\n",
      " 3   label     243 non-null    int64 \n",
      " 4   imageURL  243 non-null    object\n",
      " 5   domain    243 non-null    object\n",
      " 6   topic     0 non-null      object\n",
      " 7   author    243 non-null    object\n",
      " 8   date      230 non-null    object\n",
      "dtypes: int64(1), object(8)\n",
      "memory usage: 17.2+ KB\n"
     ]
    }
   ],
   "source": [
    "df.info()"
   ]
  },
  {
   "cell_type": "markdown",
   "metadata": {},
   "source": [
    "#### 3.1 Preprocessing (this section will be delete when we have clean data)"
   ]
  },
  {
   "cell_type": "code",
   "execution_count": 132,
   "metadata": {},
   "outputs": [],
   "source": [
    "for i in range(df.shape[0]):\n",
    "    if df['content'][i] == None:\n",
    "        df = df.drop(labels = i, axis = 0)\n",
    "\n",
    "df = df.reset_index(drop = True)"
   ]
  },
  {
   "cell_type": "code",
   "execution_count": 101,
   "metadata": {},
   "outputs": [
    {
     "name": "stdout",
     "output_type": "stream",
     "text": [
      "<class 'pandas.core.frame.DataFrame'>\n",
      "RangeIndex: 242 entries, 0 to 241\n",
      "Data columns (total 9 columns):\n",
      " #   Column    Non-Null Count  Dtype \n",
      "---  ------    --------------  ----- \n",
      " 0   title     242 non-null    object\n",
      " 1   content   242 non-null    object\n",
      " 2   url       242 non-null    object\n",
      " 3   label     242 non-null    int64 \n",
      " 4   imageURL  242 non-null    object\n",
      " 5   domain    242 non-null    object\n",
      " 6   topic     0 non-null      object\n",
      " 7   author    242 non-null    object\n",
      " 8   date      229 non-null    object\n",
      "dtypes: int64(1), object(8)\n",
      "memory usage: 17.1+ KB\n"
     ]
    }
   ],
   "source": [
    "df.info()"
   ]
  },
  {
   "cell_type": "markdown",
   "metadata": {},
   "source": [
    "#### 3.2 Safe csv file (optional)"
   ]
  },
  {
   "cell_type": "code",
   "execution_count": 69,
   "metadata": {},
   "outputs": [],
   "source": [
    "#safe df\n",
    "df.to_csv('VNFD.csv', index = False)"
   ]
  },
  {
   "cell_type": "markdown",
   "metadata": {},
   "source": [
    "### 4. Get insights"
   ]
  },
  {
   "cell_type": "markdown",
   "metadata": {},
   "source": [
    "4.1 Get brief infomation"
   ]
  },
  {
   "cell_type": "markdown",
   "metadata": {},
   "source": [
    "4.2 Check whether the distribution of classes is different"
   ]
  },
  {
   "cell_type": "markdown",
   "metadata": {},
   "source": [
    "4.3 Statistical information of content"
   ]
  },
  {
   "cell_type": "markdown",
   "metadata": {},
   "source": [
    "..."
   ]
  },
  {
   "cell_type": "markdown",
   "metadata": {},
   "source": [
    "#### 4.x Topic extraction"
   ]
  },
  {
   "cell_type": "code",
   "execution_count": 81,
   "metadata": {},
   "outputs": [],
   "source": [
    "#Use when the content has not been preprocessed\n",
    "def retrieve_topic(content):\n",
    "    tokens = word_tokenize(content.lower())\n",
    "    filtered_tokens = [token for token in tokens if token.isalpha()]\n",
    "    dictionary = corpora.Dictionary([filtered_tokens])\n",
    "    corpus = [dictionary.doc2bow(filtered_tokens)]\n",
    "    lda_model = LdaModel(corpus, num_topics=1, id2word=dictionary)\n",
    "    topics = lda_model.show_topic(0)\n",
    "    topics = [topic[0] for topic in topics[:5]] #get 5 keywords for topic\n",
    "    return topics"
   ]
  },
  {
   "cell_type": "code",
   "execution_count": null,
   "metadata": {},
   "outputs": [],
   "source": [
    "# Use when the content has been preprocessed\n",
    "# def retrieve_topic(content):\n",
    "#     dictionary = corpora.Dictionary([content])\n",
    "#     corpus = [dictionary.doc2bow(content)]\n",
    "#     lda_model = LdaModel(corpus, num_topics=1, id2word=dictionary)\n",
    "#     topics = lda_model.show_topic(0)\n",
    "#     topics = [topic[0] for topic in topics[:5]] #get 5 keywords for topic\n",
    "#     return topics"
   ]
  },
  {
   "cell_type": "code",
   "execution_count": 102,
   "metadata": {},
   "outputs": [],
   "source": [
    "df['content'] = df['content'].astype('string') #Use when the content has not been preprocessed\n",
    "for i in range(df.shape[0]):\n",
    "    df['topic'][i] = retrieve_topic(df['content'][i])"
   ]
  }
 ],
 "metadata": {
  "kernelspec": {
   "display_name": "Python 3",
   "language": "python",
   "name": "python3"
  },
  "language_info": {
   "codemirror_mode": {
    "name": "ipython",
    "version": 3
   },
   "file_extension": ".py",
   "mimetype": "text/x-python",
   "name": "python",
   "nbconvert_exporter": "python",
   "pygments_lexer": "ipython3",
   "version": "3.10.7"
  }
 },
 "nbformat": 4,
 "nbformat_minor": 2
}
