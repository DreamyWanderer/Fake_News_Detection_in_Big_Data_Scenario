{
 "cells": [
  {
   "cell_type": "markdown",
   "metadata": {},
   "source": [
    "## Exploratory data analysis\n",
    "Getting insights from data"
   ]
  },
  {
   "cell_type": "markdown",
   "metadata": {},
   "source": [
    "### 1. Import library"
   ]
  },
  {
   "cell_type": "code",
   "execution_count": 22,
   "metadata": {},
   "outputs": [],
   "source": [
    "import pandas as pd\n",
    "import os\n",
    "import sys\n",
    "\n",
    "module_path = os.path.abspath(os.path.join('..'))\n",
    "if module_path not in sys.path:\n",
    "    sys.path.append(module_path)\n",
    "\n",
    "from Visualize.make_dataframe import make_dataframe\n",
    "from Visualize.retrieve_topic import retrieve_topic\n",
    "from Visualize.visualize_frequency_words import visualize_frequency_words"
   ]
  },
  {
   "cell_type": "markdown",
   "metadata": {},
   "source": [
    "### 2. Get dataframe"
   ]
  },
  {
   "cell_type": "code",
   "execution_count": 2,
   "metadata": {},
   "outputs": [
    {
     "data": {
      "text/html": [
       "<div>\n",
       "<style scoped>\n",
       "    .dataframe tbody tr th:only-of-type {\n",
       "        vertical-align: middle;\n",
       "    }\n",
       "\n",
       "    .dataframe tbody tr th {\n",
       "        vertical-align: top;\n",
       "    }\n",
       "\n",
       "    .dataframe thead th {\n",
       "        text-align: right;\n",
       "    }\n",
       "</style>\n",
       "<table border=\"1\" class=\"dataframe\">\n",
       "  <thead>\n",
       "    <tr style=\"text-align: right;\">\n",
       "      <th></th>\n",
       "      <th>title</th>\n",
       "      <th>content</th>\n",
       "      <th>url</th>\n",
       "      <th>label</th>\n",
       "      <th>imageURL</th>\n",
       "      <th>domain</th>\n",
       "      <th>topic</th>\n",
       "      <th>author</th>\n",
       "      <th>date</th>\n",
       "    </tr>\n",
       "  </thead>\n",
       "  <tbody>\n",
       "    <tr>\n",
       "      <th>0</th>\n",
       "      <td>Bức vẽ giúp bạn đánh giá mức độ stress của bản...</td>\n",
       "      <td>[tranh, vòng_tròn, chuyển_động, chậm_rãi, hình...</td>\n",
       "      <td>https://suckhoe.vnexpress.net/tin-tuc/tu-van/b...</td>\n",
       "      <td>1</td>\n",
       "      <td>https://i-suckhoe.vnecdn.net/2018/11/16/onh-15...</td>\n",
       "      <td>suckhoe.vnexpress.net</td>\n",
       "      <td>None</td>\n",
       "      <td>[]</td>\n",
       "      <td>2018-11-17 12:15:00</td>\n",
       "    </tr>\n",
       "    <tr>\n",
       "      <th>1</th>\n",
       "      <td>KHẨN CẤP: Hàng loạt trẻ em nhập viện vì ngộ độ...</td>\n",
       "      <td>[xét_nghiệm, ban_đầu, trẻ, nhập_viện, bé, dấu_...</td>\n",
       "      <td>http://phapluat.news/khan-cap-hang-loat-tre-em...</td>\n",
       "      <td>1</td>\n",
       "      <td>http://img-static.phapluat.news/2017/10/H1.jpg</td>\n",
       "      <td>phapluat.news</td>\n",
       "      <td>None</td>\n",
       "      <td>[]</td>\n",
       "      <td>2017-10-04 14:29:00</td>\n",
       "    </tr>\n",
       "    <tr>\n",
       "      <th>2</th>\n",
       "      <td>Không đủ tiền tiêu hủy, Chi cục Thú y đề nghị ...</td>\n",
       "      <td>[28, 9, ubnd, thành_phố, chi_cục, thú_i, văn_b...</td>\n",
       "      <td>http://phapluat.news/khong-du-tien-tieu-huy-ch...</td>\n",
       "      <td>1</td>\n",
       "      <td>http://img-static.phapluat.news/2017/09/h1-4.jpg</td>\n",
       "      <td>phapluat.news</td>\n",
       "      <td>None</td>\n",
       "      <td>[]</td>\n",
       "      <td>2017-09-28 11:48:06</td>\n",
       "    </tr>\n",
       "    <tr>\n",
       "      <th>3</th>\n",
       "      <td>KHẨN CẤP: Xuất hiện xe bắt chó giả ở TP.HCM</td>\n",
       "      <td>[suốt, lực_lượng, săn_bắt, chó, đi, tuần_tra, ...</td>\n",
       "      <td>http://autoxe.net/doi-song/khan-cap-xuat-hien-...</td>\n",
       "      <td>1</td>\n",
       "      <td>http://autoxe.net/wp-content/uploads/2017/09/u...</td>\n",
       "      <td>autoxe.net</td>\n",
       "      <td>None</td>\n",
       "      <td>[]</td>\n",
       "      <td>2017-09-13 15:05:28</td>\n",
       "    </tr>\n",
       "    <tr>\n",
       "      <th>4</th>\n",
       "      <td>Đề xuất cấm tất cả công chức Hà Nội đổ xăng tạ...</td>\n",
       "      <td>[chiều, 11, 10, ubnd, tp, hà_nội, công_văn, hi...</td>\n",
       "      <td>http://phapluat.news/de-xuat-cam-tat-ca-cong-c...</td>\n",
       "      <td>1</td>\n",
       "      <td>http://img-static.phapluat.news/2017/10/h1-2.jpg</td>\n",
       "      <td>phapluat.news</td>\n",
       "      <td>None</td>\n",
       "      <td>[]</td>\n",
       "      <td>2017-10-11 16:28:55</td>\n",
       "    </tr>\n",
       "  </tbody>\n",
       "</table>\n",
       "</div>"
      ],
      "text/plain": [
       "                                               title  \\\n",
       "0  Bức vẽ giúp bạn đánh giá mức độ stress của bản...   \n",
       "1  KHẨN CẤP: Hàng loạt trẻ em nhập viện vì ngộ độ...   \n",
       "2  Không đủ tiền tiêu hủy, Chi cục Thú y đề nghị ...   \n",
       "3        KHẨN CẤP: Xuất hiện xe bắt chó giả ở TP.HCM   \n",
       "4  Đề xuất cấm tất cả công chức Hà Nội đổ xăng tạ...   \n",
       "\n",
       "                                             content  \\\n",
       "0  [tranh, vòng_tròn, chuyển_động, chậm_rãi, hình...   \n",
       "1  [xét_nghiệm, ban_đầu, trẻ, nhập_viện, bé, dấu_...   \n",
       "2  [28, 9, ubnd, thành_phố, chi_cục, thú_i, văn_b...   \n",
       "3  [suốt, lực_lượng, săn_bắt, chó, đi, tuần_tra, ...   \n",
       "4  [chiều, 11, 10, ubnd, tp, hà_nội, công_văn, hi...   \n",
       "\n",
       "                                                 url  label  \\\n",
       "0  https://suckhoe.vnexpress.net/tin-tuc/tu-van/b...      1   \n",
       "1  http://phapluat.news/khan-cap-hang-loat-tre-em...      1   \n",
       "2  http://phapluat.news/khong-du-tien-tieu-huy-ch...      1   \n",
       "3  http://autoxe.net/doi-song/khan-cap-xuat-hien-...      1   \n",
       "4  http://phapluat.news/de-xuat-cam-tat-ca-cong-c...      1   \n",
       "\n",
       "                                            imageURL                 domain  \\\n",
       "0  https://i-suckhoe.vnecdn.net/2018/11/16/onh-15...  suckhoe.vnexpress.net   \n",
       "1     http://img-static.phapluat.news/2017/10/H1.jpg          phapluat.news   \n",
       "2   http://img-static.phapluat.news/2017/09/h1-4.jpg          phapluat.news   \n",
       "3  http://autoxe.net/wp-content/uploads/2017/09/u...             autoxe.net   \n",
       "4   http://img-static.phapluat.news/2017/10/h1-2.jpg          phapluat.news   \n",
       "\n",
       "  topic author                 date  \n",
       "0  None     []  2018-11-17 12:15:00  \n",
       "1  None     []  2017-10-04 14:29:00  \n",
       "2  None     []  2017-09-28 11:48:06  \n",
       "3  None     []  2017-09-13 15:05:28  \n",
       "4  None     []  2017-10-11 16:28:55  "
      ]
     },
     "execution_count": 2,
     "metadata": {},
     "output_type": "execute_result"
    }
   ],
   "source": [
    "df = pd.DataFrame()\n",
    "df = make_dataframe()\n",
    "df.head()"
   ]
  },
  {
   "cell_type": "markdown",
   "metadata": {},
   "source": [
    "#### 3.2 Safe csv file (optional)"
   ]
  },
  {
   "cell_type": "code",
   "execution_count": 12,
   "metadata": {},
   "outputs": [],
   "source": [
    "#safe df\n",
    "#df.to_csv('Dataset/VNFD.csv', index = False)"
   ]
  },
  {
   "cell_type": "markdown",
   "metadata": {},
   "source": [
    "### 4. Get insights"
   ]
  },
  {
   "cell_type": "markdown",
   "metadata": {},
   "source": [
    "4.1 Get brief infomation"
   ]
  },
  {
   "cell_type": "markdown",
   "metadata": {},
   "source": [
    "4.2 Check whether the distribution of classes is different"
   ]
  },
  {
   "cell_type": "markdown",
   "metadata": {},
   "source": [
    "4.3 Statistical information of content"
   ]
  },
  {
   "cell_type": "markdown",
   "metadata": {},
   "source": [
    "..."
   ]
  },
  {
   "cell_type": "markdown",
   "metadata": {},
   "source": [
    "4.4 Frequency words in Real/Fake news"
   ]
  },
  {
   "cell_type": "code",
   "execution_count": 18,
   "metadata": {},
   "outputs": [],
   "source": [
    "fake_news_df = df[df['label'] == 1]\n",
    "real_news_df = df[df['label'] == 0]"
   ]
  },
  {
   "cell_type": "code",
   "execution_count": 24,
   "metadata": {},
   "outputs": [],
   "source": [
    "visualize_frequency_words(fake_news_df, \"Frequency words in Fake news\")"
   ]
  },
  {
   "cell_type": "code",
   "execution_count": 25,
   "metadata": {},
   "outputs": [],
   "source": [
    "visualize_frequency_words(real_news_df, \"Frequency words in Real news\")"
   ]
  },
  {
   "cell_type": "markdown",
   "metadata": {},
   "source": [
    "#### 4.x Topic extraction"
   ]
  },
  {
   "cell_type": "code",
   "execution_count": 6,
   "metadata": {},
   "outputs": [],
   "source": [
    "df['topic_extract'] = pd.Series()\n",
    "for i in range(df.shape[0]):\n",
    "    df['topic_extract'][i] = retrieve_topic(df['content'][i])"
   ]
  },
  {
   "cell_type": "code",
   "execution_count": 7,
   "metadata": {},
   "outputs": [
    {
     "data": {
      "text/plain": [
       "0      [hình_ảnh, chuyển_động, ảnh, alic, thần_kinh, hiệu_ứng, tiến_sĩ, nhận_thức, v5, thị_giác]\n",
       "1                      [thuốc, an_thần, tiêm, heo, bé, nhập_viện, trẻ, trường, cấp_cứu, ban_đầu]\n",
       "2                          [chó, thảo, cầm_viên, chi_cục, hoang, đem, thú, tiêu_hủi, sư_tử, chủ]\n",
       "3                               [chó, bắt, chi_cục, đội, thú_i, săn_bắt, hcm, tp, công_an, rông]\n",
       "4             [xăng, dầu, doanh_nghiệp, hiệp_hội, việt_nam, iq8, trạm, nước_ngoài, hà_nội, nhật]\n",
       "                                                 ...                                            \n",
       "237               [tai_nạn, hiện_trường, xe, merced, hư_hỏng, ảnh, ôtô, châu, đoạn, phương_tiện]\n",
       "238        [cơ_sở, nhà_hàng, hành_vi, hcm, tp, quản_lý, biểu_hiện, kích_dục, hoạt_động, công_an]\n",
       "239                              [nam, chuyến, châu, tuấn, việt_nam, tuyết, u23, ninh, chờ, hủi]\n",
       "240                        [đi, lợi, lê, huệ, đường, nguyễn, không_gian, kiến_trúc, thành, trục]\n",
       "241                                [biển, đà_nẵng, tắm, hằng, dân, đỏ, mẩn, nước_thải, ảnh, nổi]\n",
       "Name: topic_extract, Length: 242, dtype: object"
      ]
     },
     "execution_count": 7,
     "metadata": {},
     "output_type": "execute_result"
    }
   ],
   "source": [
    "pd.set_option('display.max_colwidth', None)\n",
    "df['topic_extract']"
   ]
  }
 ],
 "metadata": {
  "kernelspec": {
   "display_name": "Python 3",
   "language": "python",
   "name": "python3"
  },
  "language_info": {
   "codemirror_mode": {
    "name": "ipython",
    "version": 3
   },
   "file_extension": ".py",
   "mimetype": "text/x-python",
   "name": "python",
   "nbconvert_exporter": "python",
   "pygments_lexer": "ipython3",
   "version": "3.10.7"
  }
 },
 "nbformat": 4,
 "nbformat_minor": 2
}
